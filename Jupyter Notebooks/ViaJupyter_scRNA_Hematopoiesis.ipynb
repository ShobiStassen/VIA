{
 "cells": [
  {
   "cell_type": "markdown",
   "id": "86bbec755361c145",
   "metadata": {},
   "source": [
    "# 3. Via Human Hematopoiesis\n",
    "\n",
    "This notebook uses VIA to interpret the CD34 Hematopoiesis dataset (Setty et al.,2019) "
   ]
  },
  {
   "cell_type": "code",
   "execution_count": 1,
   "id": "7708bd938f952707",
   "metadata": {
    "ExecuteTime": {
     "end_time": "2023-10-30T06:21:00.450007459Z",
     "start_time": "2023-10-30T06:20:55.208969109Z"
    }
   },
   "outputs": [
    {
     "ename": "SyntaxError",
     "evalue": "invalid syntax (plotting_via.py, line 1569)",
     "output_type": "error",
     "traceback": [
      "Traceback \u001b[1;36m(most recent call last)\u001b[0m:\n",
      "\u001b[0m  File \u001b[0;32m~\\anaconda3\\envs\\stavia\\lib\\site-packages\\IPython\\core\\interactiveshell.py:3577\u001b[0m in \u001b[0;35mrun_code\u001b[0m\n    exec(code_obj, self.user_global_ns, self.user_ns)\u001b[0m\n",
      "\u001b[0m  Cell \u001b[0;32mIn[1], line 1\u001b[0m\n    import pyVIA.core as via\u001b[0m\n",
      "\u001b[0m  File \u001b[0;32m~\\anaconda3\\envs\\stavia\\lib\\site-packages\\pyVIA\\__init__.py:1\u001b[0m\n    from . import core\u001b[0m\n",
      "\u001b[1;36m  File \u001b[1;32m~\\anaconda3\\envs\\stavia\\lib\\site-packages\\pyVIA\\core.py:21\u001b[1;36m\n\u001b[1;33m    from pyVIA.plotting_via import *\u001b[1;36m\n",
      "\u001b[1;36m  File \u001b[1;32m~\\anaconda3\\envs\\stavia\\lib\\site-packages\\pyVIA\\plotting_via.py:1569\u001b[1;36m\u001b[0m\n\u001b[1;33m    if not isinstance(sc_labels_expression, list) sc_labels_expression = sc_labels_expression.tolist()\u001b[0m\n\u001b[1;37m                                                  ^\u001b[0m\n\u001b[1;31mSyntaxError\u001b[0m\u001b[1;31m:\u001b[0m invalid syntax\n"
     ]
    }
   ],
   "source": [
    "import pyVIA.core as via\n",
    "import pyVIA.datasets_via as   datasets\n",
    "import pandas as pd \n",
    "import scanpy as sc\n",
    "\n",
    "import matplotlib.pyplot as plt\n",
    "import warnings\n",
    "# warnings.filterwarnings('ignore')"
   ]
  },
  {
   "cell_type": "markdown",
   "id": "83dcd0ca70bcfa72",
   "metadata": {},
   "source": [
    "## Load data from directory\n",
    "We use annotations given by SingleR which uses Novershtern Hematopoietic cell data as the reference. These are in line with the annotations given by Setty et al., 2019 but offer a slightly more granular annotation."
   ]
  },
  {
   "cell_type": "code",
   "execution_count": null,
   "id": "6ceba9eed94dbd52",
   "metadata": {
    "ExecuteTime": {
     "end_time": "2023-10-30T06:22:00.919401681Z",
     "start_time": "2023-10-30T06:21:00.450812482Z"
    }
   },
   "outputs": [],
   "source": [
    "adata = datasets.scRNA_hematopoiesis()\n",
    "sc.tl.pca(adata, svd_solver='arpack', n_comps=200)\n",
    "tsnem = adata.obsm['tsne']\n",
    "adata"
   ]
  },
  {
   "cell_type": "markdown",
   "id": "c2128fc01751e20a",
   "metadata": {},
   "source": [
    "## User's choice of embedding\n",
    "Three embedding exmaples: TSNE, UMAP, and PHATE \n",
    "Alternatively allow `via.VIA()` to compute an embedding using the underlying graph by setting: `do_embedding = True` AND `embedding_type = 'via-umap'` OR `'via-mds'`"
   ]
  },
  {
   "cell_type": "code",
   "execution_count": null,
   "id": "b8d16822012e8e64",
   "metadata": {
    "ExecuteTime": {
     "end_time": "2023-10-30T06:22:00.936597177Z",
     "start_time": "2023-10-30T06:22:00.918388567Z"
    }
   },
   "outputs": [],
   "source": [
    "# TSNE - same as the embedding used in the original Setty et al., publication\n",
    "embedding = adata.obsm['tsne']\n",
    "\n",
    "# # UMAP\n",
    "# ncomp = 30\n",
    "# embedding = umap.UMAP().fit_transform(adata.obsm['X_pca'][:, 0:ncomp])\n",
    "\n",
    "# # PHATE\n",
    "# ncomp = 30\n",
    "# phate_op = phate.PHATE()\n",
    "# embedding = phate_op.fit_transform(adata.obsm['X_pca'][:, 0:ncomp])"
   ]
  },
  {
   "cell_type": "markdown",
   "id": "1718018b78c04dda",
   "metadata": {},
   "source": [
    "## Run VIA\n",
    "#### Key Parameters:\n",
    "- `knn`\n",
    "- `root_user` (root index of type int/ or celltype label of type `string`)\n",
    "- `edgepruning_clustering_resolution` (lower number means smaller (and more) clusters) typical range 0-1\n",
    "- `memory` (higher value means more focused search pathways to cell fates) typical range 2-50\n",
    "- `cluster_graph_pruning` (lower number means fewer edges) typical range 0-1\n",
    "\n",
    "NOTE: \n",
    "- If rna-velocity is available, considering using it to compute the root automatically- see RNA velocity tutorial.\n",
    "- If you want to pre-specify terminal states you can do so by a list of group-level names corresponding to true-labels OR by a list of single cell indices\n",
    "    - E.g. `user_defined_terminal_group=['pDC','ERY1', 'ERY3', 'MONO1','mDC (cDC)','PRE_B2']`"
   ]
  },
  {
   "cell_type": "code",
   "execution_count": null,
   "id": "b4922f769de32c",
   "metadata": {
    "ExecuteTime": {
     "end_time": "2023-10-30T06:26:49.025264536Z",
     "start_time": "2023-10-30T06:26:27.303116574Z"
    }
   },
   "outputs": [],
   "source": [
    "ncomps=80\n",
    "knn=30\n",
    "v0_random_seed=4\n",
    "root_user = [4823] #the index of a cell belonging to the HSC cell type\n",
    "memory = 10\n",
    "\n",
    "v0 = via.VIA(data=adata.obsm['X_pca'][:, 0:ncomps], true_label=adata.obs['label'], \n",
    "             edgepruning_clustering_resolution=0.15, cluster_graph_pruning=0.15,\n",
    "             knn=knn,  root_user=root_user, resolution_parameter=1.5, \n",
    "             random_seed=v0_random_seed, memory=memory)#, do_compute_embedding=True, embedding_type='via-atlas')\n",
    "\n",
    "v0.run_VIA()"
   ]
  },
  {
   "cell_type": "markdown",
   "id": "ddfa94fc0b41615d",
   "metadata": {},
   "source": [
    "## Cluster Level Trajectory Plots"
   ]
  },
  {
   "cell_type": "code",
   "execution_count": null,
   "id": "b2e89ebcd5491c03",
   "metadata": {
    "ExecuteTime": {
     "end_time": "2023-10-30T06:27:35.745534836Z",
     "start_time": "2023-10-30T06:27:30.831158175Z"
    }
   },
   "outputs": [],
   "source": [
    "fig, ax, ax1 = via.plot_piechart_viagraph(via_object=v0, show_legend=False)\n",
    "fig.set_size_inches(12,5)"
   ]
  },
  {
   "cell_type": "markdown",
   "id": "815c472b589fbf14",
   "metadata": {},
   "source": [
    "## Visualise gene/feature graph\n",
    "View the gene expression along the VIA graph. We use the computed HNSW small world graph in VIA to accelerate the gene imputation calculations (using similar approach to MAGIC) as follows:\n"
   ]
  },
  {
   "cell_type": "code",
   "execution_count": null,
   "id": "fcf47d7d5cbe2955",
   "metadata": {
    "ExecuteTime": {
     "end_time": "2023-10-30T06:27:59.536583699Z",
     "start_time": "2023-10-30T06:27:57.634344136Z"
    }
   },
   "outputs": [],
   "source": [
    "df_ = pd.DataFrame(adata.X)\n",
    "df_.columns = [i for i in adata.var_names]\n",
    "\n",
    "gene_list_magic = ['IL3RA', 'IRF8', 'GATA1', 'GATA2', 'ITGA2B', 'MPO', 'CD79B', 'SPI1', 'CD34', 'CSF1R', 'ITGAX']\n",
    "\n",
    "#optional to do gene expression imputation\n",
    "\n",
    "df_magic = v0.do_impute(df_, magic_steps=3, gene_list=gene_list_magic)\n",
    "\n",
    "fig, axs = via.plot_viagraph(via_object=v0, type_data='gene', df_genes=df_magic, gene_list=gene_list_magic[0:3], arrow_head=0.1)\n",
    "fig.set_size_inches(15,5)"
   ]
  },
  {
   "cell_type": "markdown",
   "id": "bb13128ee5594bad",
   "metadata": {},
   "source": [
    "## Trajectory projection\n",
    "\n",
    "Visualize the overall VIA trajectory projected onto a 2D embedding (UMAP, Phate, TSNE etc) in different ways. \n",
    "\n",
    "1. Draw the high-level clustergraph abstraction onto the embedding;\n",
    "2. Draw high-edge resolution directed graph\n",
    "3. Draw a vector field/stream plot of the more fine-grained directionality of cells along the trajectory projected onto an embedding. \n",
    "\n",
    "\n",
    "#### Key Parameters:\n",
    "- `scatter_size`\n",
    "- `scatter_alpha`\n",
    "- `linewidth`\n",
    "- `draw_all_curves` (if too crowded, set to `False`)"
   ]
  },
  {
   "cell_type": "code",
   "execution_count": null,
   "id": "42c60cc6cb7a8598",
   "metadata": {
    "ExecuteTime": {
     "end_time": "2023-10-30T05:55:28.362200638Z",
     "start_time": "2023-10-30T05:55:07.282417332Z"
    }
   },
   "outputs": [],
   "source": [
    "fig, ax, ax1 = via.plot_trajectory_curves(via_object=v0,embedding=tsnem, draw_all_curves=False)"
   ]
  },
  {
   "cell_type": "code",
   "execution_count": null,
   "id": "6a42e7275994a517",
   "metadata": {
    "ExecuteTime": {
     "end_time": "2023-10-30T06:39:03.685569958Z",
     "start_time": "2023-10-30T06:38:49.800944394Z"
    },
    "collapsed": false,
    "jupyter": {
     "outputs_hidden": false
    }
   },
   "outputs": [],
   "source": [
    "v0.embedding = tsnem\n",
    "fig, ax = via.plot_atlas_view(via_object=v0,  n_milestones=150, sc_labels=adata.obs['label'], fontsize_labels=3, extra_title_text='Atlas View colored by pseudotime')\n",
    "fig.set_size_inches(4,3)"
   ]
  },
  {
   "cell_type": "markdown",
   "id": "474c7a78-dee9-485c-bc0c-20c17a2b75bf",
   "metadata": {},
   "source": [
    "Edge plots can be made with different edge resolutions. Run `hammerbundle_milestone_dict()` to recompute the edges for plotting. Then provide the new `hammerbundle` as a parameter to `plot_edge_bundle()`\n",
    "it is better to compute the edges and save them to the `via_object`. this gives more control to the merging of edges."
   ]
  },
  {
   "cell_type": "code",
   "execution_count": null,
   "id": "aa3b3408adb92712",
   "metadata": {
    "ExecuteTime": {
     "end_time": "2023-10-30T07:03:40.372359309Z",
     "start_time": "2023-10-30T07:03:28.893625485Z"
    },
    "collapsed": false,
    "jupyter": {
     "outputs_hidden": false
    }
   },
   "outputs": [],
   "source": [
    "decay = 0.6 #increasing decay increasing merging of edges\n",
    "i_bw = 0.02 #increasing bw increases merging of edges\n",
    "global_visual_pruning = 0.5 #higher number retains more edges\n",
    "n_milestones = 200\n",
    "\n",
    "v0.hammerbundle_milestone_dict= via.make_edgebundle_milestone(via_object=v0, n_milestones=n_milestones, decay=decay, initial_bandwidth=i_bw, global_visual_pruning=global_visual_pruning)"
   ]
  },
  {
   "cell_type": "code",
   "execution_count": null,
   "id": "31fddb65bd288112",
   "metadata": {
    "ExecuteTime": {
     "end_time": "2023-10-30T07:03:59.758299608Z",
     "start_time": "2023-10-30T07:03:40.374971397Z"
    },
    "collapsed": false,
    "jupyter": {
     "outputs_hidden": false
    }
   },
   "outputs": [],
   "source": [
    "fig, ax = via.plot_atlas_view(via_object=v0,  add_sc_embedding=True, sc_labels_expression=adata.obs['label'], cmap='jet', sc_labels=adata.obs['label'], text_labels=True, extra_title_text='Atlas View by Cell type', fontsize_labels=3)\n",
    "fig.set_size_inches(6,4)"
   ]
  },
  {
   "cell_type": "markdown",
   "id": "800fcda9-f979-4078-8f92-967e6822649b",
   "metadata": {},
   "source": [
    "`via_streamplot()` requires you to either provide an ndarray as embedding as an input parameter OR for via to have an embedding attribute."
   ]
  },
  {
   "cell_type": "code",
   "execution_count": null,
   "id": "8bf3dd05ff34b33f",
   "metadata": {
    "ExecuteTime": {
     "end_time": "2023-10-30T06:40:03.012592036Z",
     "start_time": "2023-10-30T06:39:58.226327406Z"
    },
    "collapsed": false,
    "jupyter": {
     "outputs_hidden": false
    }
   },
   "outputs": [],
   "source": [
    "fig, ax = via.via_streamplot(v0, embedding=tsnem, density_grid=0.8, scatter_size=30, scatter_alpha=0.3, linewidth=0.5)\n",
    "fig.set_size_inches(4,3)"
   ]
  },
  {
   "cell_type": "code",
   "execution_count": null,
   "id": "64fdb8dc205c5965",
   "metadata": {
    "ExecuteTime": {
     "end_time": "2023-10-30T06:40:14.054981968Z",
     "start_time": "2023-10-30T06:40:09.699947616Z"
    }
   },
   "outputs": [],
   "source": [
    "#Colored by pseudotime\n",
    "\n",
    "fig, ax = via.via_streamplot(v0,density_grid=0.8, scatter_size=30, color_scheme='time', linewidth=0.5, \n",
    "                             min_mass = 1, cutoff_perc = 5, scatter_alpha=0.3, marker_edgewidth=0.1, \n",
    "                             density_stream = 2, smooth_transition=1, smooth_grid=0.5)\n",
    "fig.set_size_inches(4,3)"
   ]
  },
  {
   "cell_type": "markdown",
   "id": "884b223e2405f74f",
   "metadata": {},
   "source": [
    "## Probabilistic pathways and Memory\n",
    "Visualize the probabilistic pathways from root to terminal state as indicated by the lineage likelihood. The higher the linage likelihood, the greater the potential of that particular cell to differentiate towards the terminal state of interest.\n",
    "Changing the memory paramater will alter the specificity of the lineage pathway. \n",
    "This can be visualized at the single-cell level but also combined with the Atlas View which visualizes cell-cell connectivity and pathways\n",
    "\n",
    "#### Key Parameters:\n",
    "`marker_lineages` (`list`) of terminal clusters"
   ]
  },
  {
   "cell_type": "code",
   "execution_count": null,
   "id": "c504303a4b9b77e",
   "metadata": {
    "ExecuteTime": {
     "end_time": "2023-10-30T06:42:07.351114691Z",
     "start_time": "2023-10-30T06:42:00.468830685Z"
    }
   },
   "outputs": [],
   "source": [
    "fig, axs= via.plot_sc_lineage_probability(via_object=v0, marker_lineages=[7,11,12,15,20,22], embedding=tsnem) #marker_lineages=v0.terminal_clusters to plot all\n",
    "fig.set_size_inches(12,5)"
   ]
  },
  {
   "cell_type": "code",
   "execution_count": null,
   "id": "c2371308eeeb2059",
   "metadata": {
    "ExecuteTime": {
     "end_time": "2023-10-30T06:45:24.257177056Z",
     "start_time": "2023-10-30T06:43:51.411887067Z"
    },
    "collapsed": false,
    "jupyter": {
     "outputs_hidden": false
    }
   },
   "outputs": [],
   "source": [
    "fig, axs= via.plot_atlas_view(via_object=v0, lineage_pathway=[7,11,12,15,20,22]) #marker_lineages=v0.terminal_clusters to plot all\n",
    "fig.set_size_inches(12,5)"
   ]
  },
  {
   "cell_type": "markdown",
   "id": "aece2fc6c7b4cfb3",
   "metadata": {},
   "source": [
    "## Gene Dynamics\n",
    "### Line plots\n",
    "The gene dynamics along pseudotime for all detected lineages are automatically inferred by VIA. These can be interpreted as the change in gene expression along any given lineage.\n",
    "#### Key Parameters\n",
    "- `n_splines`\n",
    "- `spline_order`\n",
    "- `gene_exp` (`Dataframe`) single-cell level gene expression of select genes (gene imputation is an optional pre-step)"
   ]
  },
  {
   "cell_type": "code",
   "execution_count": null,
   "id": "49478cff0896013f",
   "metadata": {
    "ExecuteTime": {
     "end_time": "2023-10-30T06:42:44.269219262Z",
     "start_time": "2023-10-30T06:42:37.917346264Z"
    }
   },
   "outputs": [],
   "source": [
    "marker_genes =['ITGA2B', 'IL3RA', 'IRF8', 'MPO', 'CSF1R', 'GATA2', 'CD79B', 'CD34']\n",
    "df = pd.DataFrame(adata.X, columns = adata.var_names)\n",
    "df_magic = v0.do_impute(df, magic_steps=3, gene_list=gene_list_magic) #optional\n",
    "fig, axs=via.get_gene_expression(via_object=v0, gene_exp=df_magic[marker_genes])\n",
    "fig.set_size_inches(14,7)"
   ]
  },
  {
   "cell_type": "markdown",
   "id": "57b70e72af535a51",
   "metadata": {},
   "source": [
    "### Heatmap\n",
    "Heatmaps of genes along pseudotimetime\n",
    "#### Key Parameters\n",
    "- `df_gene_exp` (`dataframe`) single-cell level gene expression of selected genes\n",
    "- `marker_lineages` (`list`, optional) to specify which lineages to plot heatmaps for"
   ]
  },
  {
   "cell_type": "code",
   "execution_count": null,
   "id": "999b2b9d168ec00d",
   "metadata": {
    "ExecuteTime": {
     "end_time": "2023-10-30T07:02:07.309230527Z",
     "start_time": "2023-10-30T07:02:05.220447132Z"
    }
   },
   "outputs": [],
   "source": [
    "fig, axs = via.plot_gene_trend_heatmaps(via_object=v0, df_gene_exp=df_magic, cmap='plasma',\n",
    "                             marker_lineages=[7,11])\n",
    "fig.set_size_inches(5,5)"
   ]
  },
  {
   "cell_type": "markdown",
   "id": "048162e2-831b-433f-9b69-2c30bd8fd46e",
   "metadata": {},
   "source": [
    "## Driver Genes\n",
    "Identify driver genes of a cell fate/lineage.\n",
    "#### Key Parameters\n",
    "- `gene_exp` (`dataframe`) single-cell level gene expression of selected genes\n",
    "- `lineage` (`integer`) to specify which lineages to compute driver genes\n",
    "#### Optional Parameters\n",
    "- `clusters` (`list`, optional) to manually specify cell clusters that belong in the lineage\n",
    "- `conf_int` (`float`, optional) for computing"
   ]
  },
  {
   "cell_type": "code",
   "execution_count": null,
   "id": "12d1feac-da45-49c0-8fca-886dd37f373e",
   "metadata": {},
   "outputs": [],
   "source": [
    "df = adata.to_df()\n",
    "driver_gene = via.compute_driver_genes(v0, gene_exp=df, lineage=24) # Here we select cell fate cluster 24"
   ]
  },
  {
   "cell_type": "markdown",
   "id": "5bba95f3-a5fc-46ee-9219-92400bfb9167",
   "metadata": {},
   "source": [
    "Filter gene lists for positively correlated driver genes with cutoff of correlection > 0.5."
   ]
  },
  {
   "cell_type": "code",
   "execution_count": null,
   "id": "bcd1222f-92bb-4a05-87ac-650b6b5a89ed",
   "metadata": {},
   "outputs": [],
   "source": [
    "driver_upreg = driver_gene[driver_gene['corr']>0.5].sort_values('ci_low',ascending=False)\n",
    "driver_upreg"
   ]
  },
  {
   "cell_type": "markdown",
   "id": "6ef0966f",
   "metadata": {},
   "source": [
    "Plot driver genes using `via.get_gene_expression()`."
   ]
  },
  {
   "cell_type": "code",
   "execution_count": null,
   "id": "aa772c13-5f4f-430b-b7b4-722ec5b8736e",
   "metadata": {},
   "outputs": [],
   "source": [
    "fig, axs=via.get_gene_expression(v0, gene_exp=df[driver_upreg.head(4).index])\n",
    "fig.set_size_inches(14,3)"
   ]
  },
  {
   "cell_type": "markdown",
   "id": "0ebf90df",
   "metadata": {},
   "source": [
    "We can also plot driver genes directly from `via.get_gene_expression()`. Set parameters `driver_genes=True` and provide a terminal cluster to `driver_lineage`. This gives us top 3 upregulated and downregulated driver genes."
   ]
  },
  {
   "cell_type": "code",
   "execution_count": null,
   "id": "ab11f2a8",
   "metadata": {},
   "outputs": [],
   "source": [
    "fig, axs=via.get_gene_expression(v0, driver_genes=True, driver_lineage=24)\n",
    "fig.set_size_inches(14,6)"
   ]
  },
  {
   "cell_type": "markdown",
   "id": "9971c97694de63c1",
   "metadata": {
    "jp-MarkdownHeadingCollapsed": true
   },
   "source": [
    "## Various Visualizations\n",
    "### Visualizations of the trajectory can be plotted at various edge resolutions"
   ]
  },
  {
   "cell_type": "markdown",
   "id": "6bbf7a57322a545e",
   "metadata": {
    "jp-MarkdownHeadingCollapsed": true
   },
   "source": [
    "## Edge bundle plot\n",
    "#### Key Parameters (default):\n",
    "- `alpha_bundle_factor=1`\n",
    "- `linewidth_bundle=2`\n",
    "- `cmap:str = 'plasma_r'`\n",
    "- `size_scatter:int=2`\n",
    "- `alpha_scatter:float = 0.2`\n",
    "- `headwidth_bundle=0.1`"
   ]
  },
  {
   "cell_type": "markdown",
   "id": "ab11f9559600fbdc",
   "metadata": {},
   "source": [
    "## Animated Stream plot"
   ]
  },
  {
   "cell_type": "code",
   "execution_count": null,
   "id": "c822f74e8b62ee03",
   "metadata": {},
   "outputs": [],
   "source": [
    "# sc.settings.set_figure_params(dpi=120, facecolor='white')\n",
    "# #the streamlines load very slowly through the Notebook, so see the code below to open the file and view the animation properly\n",
    "# via.animate_streamplot(v0, embedding=tsnem, cmap_stream='Blues', scatter_size=200, scatter_alpha=0.2, marker_edgewidth=0.15, \n",
    "#                         density_grid=0.7, linewidth=0.1, segment_length=1.5, saveto='./Figures/HumanCD34_animation.gif')"
   ]
  },
  {
   "cell_type": "code",
   "execution_count": null,
   "id": "7513fd645b0c95b5",
   "metadata": {},
   "outputs": [],
   "source": [
    "from IPython.display import Image\n",
    "with open('./Figures/HumanCD34_animation.gif','rb') as file:\n",
    "    display(Image(file.read()))"
   ]
  },
  {
   "cell_type": "markdown",
   "id": "b4bc9c7f6562d023",
   "metadata": {},
   "source": [
    "## Animated edge bundle plot"
   ]
  },
  {
   "cell_type": "code",
   "execution_count": null,
   "id": "f510f26ac942b13a",
   "metadata": {},
   "outputs": [],
   "source": [
    "# via.animate_atlas(via_object=v0, extra_title_text='test animation', n_milestones=None,\n",
    "#                         saveto='./Figures/human_edgebundle_test.gif')"
   ]
  },
  {
   "cell_type": "code",
   "execution_count": null,
   "id": "dc78cf7171c884a9",
   "metadata": {
    "ExecuteTime": {
     "end_time": "2023-10-30T07:06:31.019210561Z",
     "start_time": "2023-10-30T07:06:30.865204811Z"
    }
   },
   "outputs": [],
   "source": [
    "from IPython.display import Image\n",
    "with open('./Figures/human_edgebundle_test.gif','rb') as file:\n",
    "    display(Image(file.read()))"
   ]
  }
 ],
 "metadata": {
  "kernelspec": {
   "display_name": "Python 3 (ipykernel)",
   "language": "python",
   "name": "python3"
  },
  "language_info": {
   "codemirror_mode": {
    "name": "ipython",
    "version": 3
   },
   "file_extension": ".py",
   "mimetype": "text/x-python",
   "name": "python",
   "nbconvert_exporter": "python",
   "pygments_lexer": "ipython3",
   "version": "3.10.14"
  },
  "vscode": {
   "interpreter": {
    "hash": "81d2d974cd9777f553ba80b36a0cc27a622b668c513c0adc18433adc1cfd3f56"
   }
  }
 },
 "nbformat": 4,
 "nbformat_minor": 5
}
